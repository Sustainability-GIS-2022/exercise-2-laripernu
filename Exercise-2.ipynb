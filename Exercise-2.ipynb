{
 "cells": [
  {
   "cell_type": "markdown",
   "metadata": {},
   "source": [
    "# Exercise 2\n",
    "\n",
    "Exercise 2 includes a **written assignment** (10 points), a **programming assignment with 4 problems** (9 points) and a **feedback/workload assessment assignment** (1 point). For each problem you need to modify the notebook by adding your own programming solutions or written text. Remember to save and commit your changes locally, and push your changes to GitHub after each major change! Regular commits will help you to keep track of your changes (and revert them if needed). Pushing your work to GitHub will ensure that you don't lose any work in case your computer crashes (can happen!).\n",
    "\n",
    "### Due date\n",
    "\n",
    "This exercise should be returned to your personal Github repository **within two weeks** after it has been released (by Thursday February 3rd at 23:59). Please notice that finishing the programming exercises can take significant amount of time (especially if you don't have yet much programming experience). Hence, it is recommended that you start immediately working on them."
   ]
  },
  {
   "cell_type": "markdown",
   "metadata": {},
   "source": [
    "# Exercise 2 - Written assignment (10 points)\n",
    "\n",
    "In the *Human wellbeing and capabilities* and *Network analytics and spatial accessibility modelling* lessons this week, we went through concepts related to equity, justice and spatial accessibility and learned how spatial network analysis can be used to quantify access. \n",
    "\n",
    "\n",
    "## Equity and accessibility\n",
    "\n",
    "Write approx. 0.5-2 pages (A4) of text in English where you explain:\n",
    " \n",
    " - How philosophies of justice and concept of accessibility relate to each other?\n",
    "   - how justice and equity can be understood (e.g. Rawlsian view)?\n",
    " - How spatial accessibility can be modelled and what kind of application areas there exists?\n",
    " - How equity and spatial accessibility modelling relates to sustainability?\n",
    " \n",
    "Use the lesson materials and the recommended readings (optional) as a source of information for answering to these.\n",
    "\n",
    "----------------\n",
    "\n",
    "### My answer\n",
    "\n",
    "**Add your text here.**\n",
    "\n",
    "*Hint: To \"activate\" this cell in Editing mode, double click this cell. If you want to get this cell back in the \"Reading-mode\", press Shift+Enter.*\n",
    "\n",
    "\n",
    "## Hints\n",
    "\n",
    "- If you need help in Markdown formatting (e.g. how to add headings, bold, italics, links etc.), please take a look at this excellent [guide / cheatsheet](https://www.markdownguide.org/cheat-sheet/) "
   ]
  },
  {
   "cell_type": "markdown",
   "metadata": {},
   "source": [
    "# Exercise 2 - Programming assignment\n",
    "\n",
    "In this exercise, we will practice network analysis and spatial accessibility modelling. Our overall goal is to analyze healthcare accessibility by conducting a two-step floating catchment area analysis in Helsinki Region. We will calculate travel time-based catchment areas by driving (10 minutes threshold) from selected hospitals and postal code areas in the Helsinki Region. Based on the population information and the number of physicians at given hospital (simulated --> not real), we can calculate an accessibility index based on 2SFCA method. The end result should look something like following:\n",
    "\n",
    "![\"Healthcare accessibility map in Helsinki Region](img/hospital_accessibility_2SFCA_HelsinkiRegion.PNG)\n",
    "  \n",
    "The main point in this Exercise is to practice how to do network analysis in Python, and use it for a practical health-related research question. Similar approaches can be used for many different applications that require understanding supply and demand of some kind of service (can be e.g. commercial application as well).\n",
    "\n",
    "### Start your exercise in CSC Notebooks\n",
    "\n",
    "Before you can start programming, you need to launch the CSC Notebook instance and clone your Exercise repository there.\n",
    "If you need help with this, [read the documentation on the course site](https://sustainability-gis.readthedocs.io/en/latest/lessons/L1/git-basics.html).\n",
    " \n",
    "### Hints \n",
    "\n",
    "If there are general questions arising from this exercise, we will add hints to the course website under [Exercise 2 description](https://sustainability-gis.readthedocs.io/en/latest/lessons/L2/exercise-2.html). "
   ]
  },
  {
   "cell_type": "markdown",
   "metadata": {},
   "source": [
    "## Input data for the exercise\n",
    "\n",
    "We will use only openly available data sources for this exercise, listed below.\n",
    "\n",
    "### Healthcare facilities and number of physicians \n",
    "\n",
    "We will use the real locations of healthcare facilities in Helsinki Region (based on data from [Palvelukartta](https://palvelukartta.hel.fi/fi/)) and **simulated** data about the number of doctors working in them. The distribution of the number of doctors working in different facilities looks like this (the size of the bubble corresponds the number of physicians):\n",
    "![The proportion of doctors in different health facilities](img/Number_of_doctors_in_hospitals_simulated.PNG)\n",
    "\n",
    "Notice that this data **is not real** and it has been simulated based on openly available data/information and has many assumptions (e.g. that the number of doctors in cities reflect the average of whole Finland which is 3.8 doctors per 1000 inhabitants). The physicians are allocated to different facilities based on relative number of health-related employees working at different postal code areas (again a big assumption). These steps have been taken to make the data a bit more realistic, but they cannot be considered to reflect reality. If you are interested to see the details of how the data was produced based on open data, [check this notebook](https://github.com/AaltoGIS/data-preparations/blob/master/Preparing_hospital_data.ipynb). \n",
    "\n",
    "### Population distribution\n",
    "\n",
    "The population data that we will use in this exercise is openly available from [HSY](https://www.hsy.fi/en/environmental-information/open-data/avoin-data---sivut/population-grid-of-helsinki-metropolitan-area/). The data is from 2019 and it has been cleaned, so it is ready for you to use. The column `ASUKKAITA` contains information about the number of inhabitants in given grid cell. The population distribution in Helsinki looks like following:\n",
    "\n",
    "![Population distribution](img/Number_of_inhabitants_Helsinki_Region_2019.PNG)\n",
    "\n",
    "### Postal code areas\n",
    "\n",
    "The final 2SFCA indices will be calculated on a postal code level (to reduce the amount of routings that are needed). We will use openly available data from Statistics Finland (PAAVO) and fetch the postal code level data using [WFS API](https://www.stat.fi/org/avoindata/paikkatietoaineistot/paavo_en.html).\n",
    "\n",
    "### Street network\n",
    "\n",
    "For street networks and conducting the accessibility analysis, we will use OpenStreetMap data using `pyrosm`. "
   ]
  },
  {
   "cell_type": "markdown",
   "metadata": {},
   "source": [
    "## Problem 1 - Prepare network data for routing (3 points)\n",
    "\n",
    "In this problem, we prepare a routable graph for our analysis. You should:\n",
    "\n",
    "  1. read drivable roads (edges and nodes) for Helsinki Region using `pyrosm`\n",
    "  2. fill speed limit information (`maxspeed`) for roads which miss that information\n",
    "  3. calculate drive time in seconds for each edge\n",
    "  4. create a directed `Networkx` graph based on the nodes and edges using `pyrosm`\n",
    " \n",
    " \n",
    "Based on the road network edges, answer to following questions:\n",
    "\n",
    " - What is the average length of road distances?\n",
    "     - Answer: 18.069 m\n",
    " - What is the average travel time (in seconds) of road segments? (considering all roads)\n",
    "     - Answer: 1.851 s\n",
    " - What is the \"longest\" road segment to travel in terms of travel time (in seconds)? \n",
    "     - Answer: 87.186 s\n",
    " \n",
    "\n",
    "Please write your solution to the cell below (remove the `raise NotImplementedError()` code). You can create new cells as well if needed."
   ]
  },
  {
   "cell_type": "code",
   "execution_count": 2,
   "metadata": {
    "deletable": false,
    "nbgrader": {
     "cell_type": "code",
     "checksum": "cb620cf0d9ea9ceec931f4722249b26c",
     "grade": true,
     "grade_id": "cell-63e41c5276b41eb1",
     "locked": false,
     "points": 3,
     "schema_version": 3,
     "solution": true,
     "task": false
    }
   },
   "outputs": [
    {
     "name": "stdout",
     "output_type": "stream",
     "text": [
      "The average length of road distances is: 18.069 m\n",
      "The average travel time (in seconds) of road segments is: 1.851 s\n",
      "the longest road segment to travel in terms of travel time is: 87.186 s\n"
     ]
    }
   ],
   "source": [
    "# YOUR CODE HERE\n",
    "import pyrosm\n",
    "import geopandas as gpd\n",
    "import pandas as pd\n",
    "import networkx as nx\n",
    "import osmnx as ox\n",
    "\n",
    "# Helper function borrowed from the tutorial 2 on this course\n",
    "def road_class_to_kmph(road_class):\n",
    "    \"\"\"\n",
    "    Returns a speed limit value based on road class, \n",
    "    using typical Finnish speed limit values within urban regions.\n",
    "    \"\"\"\n",
    "    if road_class == \"motorway\":\n",
    "        return 100\n",
    "    elif road_class == \"motorway_link\":\n",
    "        return 80\n",
    "    elif road_class in [\"trunk\", \"trunk_link\"]:\n",
    "        return 60\n",
    "    elif road_class == \"service\":\n",
    "        return 30\n",
    "    elif road_class == \"living_street\":\n",
    "        return 20\n",
    "    else:\n",
    "        return 50\n",
    "\n",
    "    \n",
    "# read drivable roads (edges and nodes) for Helsinki Region using pyrosm\n",
    "# init reader\n",
    "fp = pyrosm.get_data(\"Helsinki\")\n",
    "osm = pyrosm.OSM(fp)\n",
    "\n",
    "# read nodes and edges of driving network\n",
    "nodes, edges = osm.get_network(nodes=True, network_type=\"driving\")\n",
    "\n",
    "# remove pedestrian roads\n",
    "edges = edges.loc[~edges[\"highway\"].isin(['cycleway', 'footway', 'pedestrian', 'trail', 'crossing'])].copy()\n",
    "\n",
    "# fill speed limit information (maxspeed) for roads which miss that information\n",
    "edges[\"maxspeed\"].value_counts(dropna=False)\n",
    "edges[\"maxspeed\"] = edges[\"maxspeed\"].astype(float).astype(pd.Int64Dtype())\n",
    "\n",
    "# use mask to select null maxspeed edge rows and valid rows\n",
    "mask = edges[\"maxspeed\"].isnull()\n",
    "edges_null_maxspeed = edges.loc[mask].copy()\n",
    "valid_edges = edges.loc[~mask].copy()\n",
    "\n",
    "# use the helper function to assing missing maxspeed values\n",
    "edges_null_maxspeed[\"maxspeed\"] = edges_null_maxspeed[\"highway\"].apply(road_class_to_kmph)\n",
    "edges_null_maxspeed.head(5).loc[:, [\"maxspeed\", \"highway\"]]\n",
    "\n",
    "# combine the split edge gdfs\n",
    "edges = valid_edges.append(edges_null_maxspeed)\n",
    "\n",
    "# calculate drive time in seconds for each edge\n",
    "edges[\"travel_time_seconds\"] = edges[\"length\"] / (edges[\"maxspeed\"]/3.6)\n",
    "edges = edges[[\"oneway\", \"travel_time_seconds\", \"length\", \"u\", \"v\", \"geometry\"]]\n",
    "\n",
    "\n",
    "# create a directed Networkx graph based on the nodes and edges using pyrosm\n",
    "G = osm.to_graph(nodes, edges, graph_type=\"networkx\")\n",
    "\n",
    "\n",
    "# Based on the road network edges, answer to following questions:\n",
    "# What is the average length of road distances?\n",
    "print(\"The average length of road distances is: {:.3f} m\".format(edges[\"length\"].mean()))\n",
    "\n",
    "# What is the average travel time (in seconds) of road segments? (considering all roads)\n",
    "print(\"The average travel time (in seconds) of road segments is: {:.3f} s\".format(edges[\"travel_time_seconds\"].mean()))\n",
    "\n",
    "# What is the \"longest\" road segment to travel in terms of travel time (in seconds)?\n",
    "print(\"the longest road segment to travel in terms of travel time is: {:.3f} s\".format(edges[\"travel_time_seconds\"].max()))\n"
   ]
  },
  {
   "cell_type": "markdown",
   "metadata": {},
   "source": [
    "## Problem 2 - Prepare other datasets for the analysis (2 points)\n",
    "\n",
    "In this problem, you should read following files to geopandas:\n",
    " \n",
    "  1. read population grid (250 m resolution) which is available in `data` directory (population_grid_hsy.geojson)\n",
    "  2. hospital data to variable **hospitals** (also in `data` directory) including information about the number of physicians at a given health care facility (hospital_data.geojson)\n",
    "  3. postal code level data from Statistics Finland using their WFS service\n",
    "     - hint: you can read postalcode data easily with geopandas `read_file()` function by passing a following url into it: `'http://geo.stat.fi/geoserver/postialue/wfs?request=GetFeature&typename=postialue:pno_tilasto_2019&outputformat=JSON'` \n",
    "  4. Reproject all the previous layers (1-3 above) to WGS84 coordinate reference system\n",
    "  \n",
    "\n",
    "  \n",
    "After you have read the data, you should do following steps:\n",
    "\n",
    " 5. Drop healthcare centers from the hospital data: From **hospitals** dataset select only rows where the `service_en` is either `\"university hospitals\"` or `\"city or municipal hospitals\"`\n",
    " 6. Create a **copy** of the population grid data into a new variable `pop_centroids` and convert the Polygon geometries to Points using `centroid`\n",
    " 7. The postal code data is covering whole Finland. Select only postal code areas covering Helsinki, Espoo, Vantaa and Kauniainen. \n",
    "    - A hint: you might want to use [municipality codes - kunta](https://www.tilastokeskus.fi/fi/luokitukset/kunta/) to filter the data\n",
    " 8. For **postal code** data (from PAAVO), calculate the centroid of the geometries into a column `centroid` and set it as an active geometry for the GeoDataFrame.\n",
    "    - **hint:** You can use `gpd.set_geometry()` function to specify which geometry is \"active\" in the data (i.e. which is used e.g. for plotting or when doing spatial selection etc.)\n",
    "    - **note:** You can ignore the possible UserWarning related to using geographic CRS when calculating the centroid.\n",
    "    \n",
    "    \n",
    "Please write your solution to the cell below (remove the `raise NotImplementedError()` code). You can create new cells as well if needed."
   ]
  },
  {
   "cell_type": "code",
   "execution_count": 4,
   "metadata": {
    "deletable": false,
    "nbgrader": {
     "cell_type": "code",
     "checksum": "396cfe0f971844b49785f8f1cdcbdd72",
     "grade": true,
     "grade_id": "cell-2c242a6857a49dbc",
     "locked": false,
     "points": 2,
     "schema_version": 3,
     "solution": true,
     "task": false
    }
   },
   "outputs": [
    {
     "data": {
      "text/plain": [
       "<AxesSubplot:>"
      ]
     },
     "execution_count": 4,
     "metadata": {},
     "output_type": "execute_result"
    },
    {
     "data": {
      "image/png": "[encoded data removed]",
      "text/plain": [
       "<Figure size 432x288 with 1 Axes>"
      ]
     },
     "metadata": {
      "needs_background": "light"
     },
     "output_type": "display_data"
    }
   ],
   "source": [
    "# YOUR CODE HERE\n",
    "import geopandas as gpd\n",
    "\n",
    "# In this problem, you should read following files to geopandas:\n",
    "\n",
    "# read population grid (250 m resolution) which is available in data directory (population_grid_hsy.geojson)\n",
    "population_grid = gpd.read_file(\"data/population_grid_hsy.geojson\")\n",
    "\n",
    "# hospital data to variable hospitals (also in data directory) including information about the number \n",
    "# of physicians at a given health care facility (hospital_data.geojson)\n",
    "hospitals = gpd.read_file(\"data/hospital_data.geojson\")\n",
    "\n",
    "# TODO postal code level data from Statistics Finland using their WFS service\n",
    "# hint: you can read postalcode data easily with geopandas read_file() function by passing a following url into it: 'http://geo.stat.fi/geoserver/postialue/wfs?request=GetFeature&typename=postialue:pno_tilasto_2019&outputformat=JSON'\n",
    "\n",
    "\n",
    "# TODO Reproject all the previous layers (1-3 above) to WGS84 coordinate reference system\n",
    "\n",
    "# TODO After you have read the data, you should do following steps:\n",
    "\n",
    "# TODO Drop healthcare centers from the hospital data: From hospitals dataset select only rows where the service_en is either \"university hospitals\" or \"city or municipal hospitals\"\n",
    "\n",
    "# TODO Create a copy of the population grid data into a new variable pop_centroids and convert the Polygon geometries to Points using centroid\n",
    "\n",
    "# TODO The postal code data is covering whole Finland. Select only postal code areas covering Helsinki, Espoo, Vantaa and Kauniainen.\n",
    "# A hint: you might want to use municipality codes - kunta to filter the data\n",
    "\n",
    "# TODO For postal code data (from PAAVO), calculate the centroid of the geometries into a column centroid and set it as an active geometry for the GeoDataFrame.\n",
    "# hint: You can use gpd.set_geometry() function to specify which geometry is \"active\" in the data (i.e. which is used e.g. for plotting or when doing spatial selection etc.)\n",
    "# note: You can ignore the possible UserWarning related to using geographic CRS when calculating the centroid.\n"
   ]
  },
  {
   "cell_type": "markdown",
   "metadata": {},
   "source": [
    "## Problem 3 - Calculate 10 minute catchment areas for hospitals and calculate PPR (2 points)\n",
    "\n",
    "In this problem, we do the **first step** of \"two-step floating catchment area\" method. Hence, you should: \n",
    "\n",
    " 1. calculate a catchment area for each hospital (n=27) based on the routable graph (by driving) that was created in Problem 1 (you need to loop over hospitals). You should use Networkx to do the calculations. See the Tutorial materials to understand what are the required steps. **You should calculate the travel times only up to 10 minutes** (i.e. 600 seconds). Note: It will take awhile to calculate these.\n",
    "   - **Hint: Before looping over all hospitals it is MUCH RECOMMENDED to first iterate over e.g. a couple of hospitals to see that things are working as should.** This is one of the good coding practices: test with a small sample before running a longer calculation (it saves times and nerves). \n",
    " 2. Make a spatial join between the **population grid** (i.e. the HSY population distribution data) and the network **nodes** that come as a result with the given 10 minute catchment area, and store it into a variable. As a result you should have something like following, in which specific population grid cells are selected if they intersect with the network nodes (10 minute catchment area): \n",
    " \n",
    " ![Spatial join between nodes and pop grid](img/network_nodes_intersecting_population_grid.PNG)\n",
    " \n",
    " 3. Calculate the total sum of inhabitants living under the catchment area (use `ASUKKAITA` column in the population grid) and store it into a variable\n",
    " 4. From the row of the given hospital (which you are iterating) get the number of physicians and store it into a variable (convert it into an integer)\n",
    " 5. Calculate the prover-to-population ratio by dividing the number of physicians by the population sum within given catchment, and store it into a variable. \n",
    " 6. Convert the selected the grid cells fell within the catchment area into a MultiPolygon by making an unary union the Polygon geometries (check geopandas *unary_union*). After this step, you should get a single shapely geometry instead of multiple rows of data in GeoDataFrame.\n",
    " 7. Store all these values into a GeoDataFrame as a single row. In the end a single row should have following attributes:\n",
    " \n",
    "   - geometry --> the geometry based on unary union of all grid cells that fall within catchment area\n",
    "   - name_en --> name of the hospital\n",
    "   - physician_cnt --> number of physicians at given hospital\n",
    "   - pop_cnt --> number of inhabitants living within the catchment area\n",
    "   - ppr --> provider-to-population ratio \n",
    "   \n",
    "   \n",
    "If you plot the 10 minute catchment areas (without fill color), you should end up having something like following:\n",
    "![10 minute catchment areas](img/catchment_areas_for_all_hospitals_in_HMA.PNG)\n",
    "\n",
    "\n",
    "Please write your solution to the cell below (remove the `raise NotImplementedError()` code). You can create new cells as well if needed."
   ]
  },
  {
   "cell_type": "code",
   "execution_count": null,
   "metadata": {
    "deletable": false,
    "nbgrader": {
     "cell_type": "code",
     "checksum": "dc81fdc57b6e0085d78139a590066356",
     "grade": true,
     "grade_id": "cell-70e3be51fff135df",
     "locked": false,
     "points": 2,
     "schema_version": 3,
     "solution": true,
     "task": false
    }
   },
   "outputs": [],
   "source": [
    "# Calculate 10 minutes driving distance from all hospitals \n",
    "catchment_areas = gpd.GeoDataFrame()\n",
    "\n",
    "i = 0\n",
    "for idx, row in hospitals.iterrows():\n",
    "    \n",
    "    # YOUR CODE HERE\n",
    "    raise NotImplementedError()"
   ]
  },
  {
   "cell_type": "code",
   "execution_count": null,
   "metadata": {},
   "outputs": [],
   "source": [
    "pop_zip"
   ]
  },
  {
   "cell_type": "markdown",
   "metadata": {},
   "source": [
    "## Problem 4 (1 point)\n",
    "\n",
    "After you have done the first step of 2SFCA, we can finish the analysis by doing the second step in the analysis:\n",
    "\n",
    " 1. Attach PPR value from catchment areas to hospital points GeoDataFrame: Make a table join between hospitals and catchment_areas based on `name_en` column. \n",
    " 2. Calculate the 10 minute catchment areas from all population centers, i.e. the centroids of the postal code areas (n=167). Note: It will take awhile to calculate these. \n",
    "   - **Hint: Before looping over all postal code areas it is MUCH RECOMMENDED to first iterate over e.g. a couple of rows to see that things are working as should.** This is one of the good coding practices: test with a small sample before running a longer calculation (it saves times and nerves).\n",
    " 3. Create a catchment areas (as a Polygon layer): create the catchment Polygons by extracting the convex hull of the nodes that you get as a result from step 2.  \n",
    " 4. Find out which hospitals are within the catchment area: Make a spatial join between hospitals (points) and the catchment area (from step 3)\n",
    " 5. Calculate the sum of PPR values \n",
    " 6. store the 2SFCA index values with postal code geometries into a GeoDataFrame `final_results`\n",
    " 7. Visualize the results and produce a map that looks something like following:\n",
    " \n",
    "![\"Healthcare accessibility map in Helsinki Region](img/hospital_accessibility_2SFCA_HelsinkiRegion.PNG)\n",
    "\n",
    "Please write your solution to the cell below (remove the `raise NotImplementedError()` code). You can create new cells as well if needed."
   ]
  },
  {
   "cell_type": "code",
   "execution_count": null,
   "metadata": {
    "deletable": false,
    "nbgrader": {
     "cell_type": "code",
     "checksum": "797dd6376f78ef5c0ea1cbcae9d7e8cb",
     "grade": true,
     "grade_id": "cell-5ec5c896d75cb974",
     "locked": false,
     "points": 1,
     "schema_version": 3,
     "solution": true,
     "task": false
    }
   },
   "outputs": [],
   "source": [
    "# Iterate over population centers (postal code areas) and calculate 2SFCA index\n",
    "# -----------------------------------------------------------------------------\n",
    "\n",
    "final_results = gpd.GeoDataFrame()\n",
    "\n",
    "# YOUR CODE HERE\n",
    "raise NotImplementedError()"
   ]
  },
  {
   "cell_type": "markdown",
   "metadata": {},
   "source": [
    "## Problem 5 - How long did it take? Optional feedback (1 point)\n",
    "\n",
    "To help developing the exercises, and understanding the time that it took for you to finish the Exercise, please provide an estimate of how many hours you spent for doing this exercise? *__Hint:__ To \"activate\" this cell in Editing mode, double click this cell. If you want to get this cell back in the \"Reading-mode\", press Shift+Enter.*\n",
    "\n",
    "\n",
    "I spent approximately this many hours: **X hours**\n",
    "\n",
    "In addition, if you would like to give any feedback about the exercise (optional), please provide it below:\n",
    "\n",
    "**My feedback:**"
   ]
  }
 ],
 "metadata": {
  "kernelspec": {
   "display_name": "Python 3 (ipykernel)",
   "language": "python",
   "name": "python3"
  },
  "language_info": {
   "codemirror_mode": {
    "name": "ipython",
    "version": 3
   },
   "file_extension": ".py",
   "mimetype": "text/x-python",
   "name": "python",
   "nbconvert_exporter": "python",
   "pygments_lexer": "ipython3",
   "version": "3.9.7"
  }
 },
 "nbformat": 4,
 "nbformat_minor": 4
}
